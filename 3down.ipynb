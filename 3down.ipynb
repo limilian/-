{
 "cells": [
  {
   "cell_type": "code",
   "execution_count": 2,
   "id": "c870c30a-72e1-4bda-851e-0c47371721de",
   "metadata": {},
   "outputs": [
    {
     "name": "stdout",
     "output_type": "stream",
     "text": [
      "Looking in indexes: https://mirrors.tuna.tsinghua.edu.cn/pypi/web/simple\n",
      "Collecting torch\n",
      "  Downloading https://mirrors.tuna.tsinghua.edu.cn/pypi/web/packages/76/49/4a0a8b19ce8f9bf32fcab4e863c7e2366f519f9826c84ca250567b11a014/torch-2.5.1-cp39-cp39-win_amd64.whl (203.0 MB)\n",
      "Requirement already satisfied: filelock in c:\\programdata\\anaconda3\\lib\\site-packages (from torch) (3.3.1)\n",
      "Requirement already satisfied: jinja2 in c:\\programdata\\anaconda3\\lib\\site-packages (from torch) (2.11.3)\n",
      "Requirement already satisfied: fsspec in c:\\programdata\\anaconda3\\lib\\site-packages (from torch) (2021.10.1)\n",
      "Collecting sympy==1.13.1\n",
      "  Downloading https://mirrors.tuna.tsinghua.edu.cn/pypi/web/packages/b2/fe/81695a1aa331a842b582453b605175f419fe8540355886031328089d840a/sympy-1.13.1-py3-none-any.whl (6.2 MB)\n",
      "Collecting typing-extensions>=4.8.0\n",
      "  Downloading https://mirrors.tuna.tsinghua.edu.cn/pypi/web/packages/26/9f/ad63fc0248c5379346306f8668cda6e2e2e9c95e01216d2b8ffd9ff037d0/typing_extensions-4.12.2-py3-none-any.whl (37 kB)\n",
      "Requirement already satisfied: networkx in c:\\programdata\\anaconda3\\lib\\site-packages (from torch) (2.6.3)\n",
      "Requirement already satisfied: mpmath<1.4,>=1.1.0 in c:\\programdata\\anaconda3\\lib\\site-packages (from sympy==1.13.1->torch) (1.2.1)\n",
      "Requirement already satisfied: MarkupSafe>=0.23 in c:\\programdata\\anaconda3\\lib\\site-packages (from jinja2->torch) (1.1.1)\n",
      "Installing collected packages: typing-extensions, sympy, torch\n",
      "  Attempting uninstall: typing-extensions\n",
      "    Found existing installation: typing-extensions 3.10.0.2\n",
      "    Uninstalling typing-extensions-3.10.0.2:\n",
      "      Successfully uninstalled typing-extensions-3.10.0.2\n",
      "  Attempting uninstall: sympy\n",
      "    Found existing installation: sympy 1.9\n",
      "    Uninstalling sympy-1.9:\n",
      "      Successfully uninstalled sympy-1.9\n",
      "Successfully installed sympy-1.13.1 torch-2.5.1 typing-extensions-4.12.2\n",
      "Note: you may need to restart the kernel to use updated packages.\n"
     ]
    }
   ],
   "source": [
    "pip install -i https://mirrors.tuna.tsinghua.edu.cn/pypi/web/simple torch"
   ]
  },
  {
   "cell_type": "code",
   "execution_count": 1,
   "id": "40497280-8ca5-4261-b6ff-22925dc5fe79",
   "metadata": {},
   "outputs": [],
   "source": [
    "from sklearn.datasets import load_breast_cancer\n",
    "from sklearn.model_selection import train_test_split\n",
    "from sklearn.linear_model import LogisticRegression\n",
    "from sklearn.metrics import classification_report, accuracy_score"
   ]
  },
  {
   "cell_type": "code",
   "execution_count": 3,
   "id": "6e272a54-6ee0-4249-a30e-91f8ba25dd18",
   "metadata": {},
   "outputs": [],
   "source": [
    "# 加载 sklearn 自带的乳腺癌（分类）数据集\n",
    "X, y = load_breast_cancer(return_X_y=True)"
   ]
  },
  {
   "cell_type": "code",
   "execution_count": 4,
   "id": "25c452e8-fd74-4324-b4d9-1d9dff88103a",
   "metadata": {},
   "outputs": [],
   "source": [
    "#以指定比例将数据集分为训练集和测试集\n",
    "X_train, X_test, y_train, y_test = train_test_split(\n",
    "    X, y,\n",
    "    train_size=0.875, test_size=0.125, random_state=188\n",
    ")"
   ]
  },
  {
   "cell_type": "code",
   "execution_count": 5,
   "id": "39ba035a-b898-40d2-ad7f-0bfa1c88571b",
   "metadata": {},
   "outputs": [
    {
     "data": {
      "text/plain": [
       "LogisticRegression(max_iter=3000, multi_class='ovr')"
      ]
     },
     "execution_count": 5,
     "metadata": {},
     "output_type": "execute_result"
    }
   ],
   "source": [
    "#使用lr类,初始化模型\n",
    "clf = LogisticRegression(\n",
    "    penalty=\"l2\", C=1.0, random_state=None, solver=\"lbfgs\", max_iter=3000,\n",
    "    multi_class='ovr', verbose=0,\n",
    ")\n",
    "#使用训练数据来学习（拟合）\n",
    "clf.fit(X_train, y_train)"
   ]
  },
  {
   "cell_type": "code",
   "execution_count": 7,
   "id": "5760d5e3-4610-475e-8328-88d9a7d6fab9",
   "metadata": {},
   "outputs": [],
   "source": [
    "#使用测试数据来预测,返回值预测分类数据\n",
    "y_pred = clf.predict(X_test)"
   ]
  },
  {
   "cell_type": "code",
   "execution_count": 8,
   "id": "fec83f72-530e-4116-831f-4b4a27dd1931",
   "metadata": {},
   "outputs": [
    {
     "name": "stdout",
     "output_type": "stream",
     "text": [
      "--- report ---\n",
      "              precision    recall  f1-score   support\n",
      "\n",
      "           0       0.96      0.96      0.96        27\n",
      "           1       0.98      0.98      0.98        45\n",
      "\n",
      "    accuracy                           0.97        72\n",
      "   macro avg       0.97      0.97      0.97        72\n",
      "weighted avg       0.97      0.97      0.97        72\n",
      "\n",
      "--- params ---\n",
      "[[ 0.89960769  0.17888852 -0.30396602  0.02572356 -0.17667936 -0.19319243\n",
      "  -0.56543832 -0.30645813 -0.25374937 -0.02428212 -0.07407326  1.09546992\n",
      "   0.11108786 -0.10663238 -0.02759738  0.0854027  -0.03498365 -0.0387471\n",
      "  -0.03079349  0.01957814  0.26004763 -0.45621821 -0.07916768 -0.01658918\n",
      "  -0.36072651 -0.6348124  -1.54604075 -0.6192092  -0.72734147 -0.06821056]] [28.59968311]\n",
      "---accuracy---\n",
      "0.9722222222222222\n"
     ]
    }
   ],
   "source": [
    "#打印主要分类指标的文本报告\n",
    "print('--- report ---')\n",
    "print(classification_report(y_test, y_pred))\n",
    "# 打印模型的参数\n",
    "print('--- params ---')\n",
    "print(clf.coef_, clf.intercept_)\n",
    "# 打印准确率\n",
    "print('---accuracy---')\n",
    "print(accuracy_score(y_test, y_pred))"
   ]
  },
  {
   "cell_type": "code",
   "execution_count": null,
   "id": "493ed270-8d8a-4a36-a556-2e9ae725e369",
   "metadata": {},
   "outputs": [],
   "source": []
  },
  {
   "cell_type": "code",
   "execution_count": null,
   "id": "7eaf75bd-177a-4878-a263-e8070fe2363e",
   "metadata": {},
   "outputs": [],
   "source": []
  },
  {
   "cell_type": "code",
   "execution_count": null,
   "id": "67da7161-ea3b-452f-8a75-15cc054a4f54",
   "metadata": {},
   "outputs": [],
   "source": []
  },
  {
   "cell_type": "code",
   "execution_count": null,
   "id": "704ffdc3-4944-4f44-9652-1f84cccbedbe",
   "metadata": {},
   "outputs": [],
   "source": []
  },
  {
   "cell_type": "code",
   "execution_count": null,
   "id": "3a3af8f8-f332-43d4-bb52-16fc89471fa1",
   "metadata": {},
   "outputs": [],
   "source": []
  },
  {
   "cell_type": "code",
   "execution_count": null,
   "id": "a7f31cbe-53c5-4611-8c13-f58227010623",
   "metadata": {},
   "outputs": [],
   "source": []
  },
  {
   "cell_type": "code",
   "execution_count": null,
   "id": "99712ec6-cf4d-4f90-b01c-eba4b86d105b",
   "metadata": {},
   "outputs": [],
   "source": []
  },
  {
   "cell_type": "code",
   "execution_count": null,
   "id": "aa04db86-ad85-40b9-9d1f-4adbc03c665d",
   "metadata": {},
   "outputs": [],
   "source": []
  },
  {
   "cell_type": "code",
   "execution_count": null,
   "id": "4cf44bc1-59ca-4732-8000-650f1f06f078",
   "metadata": {},
   "outputs": [],
   "source": []
  },
  {
   "cell_type": "code",
   "execution_count": 7,
   "id": "fccb03d4-9580-40dd-ae5b-ba04332715c4",
   "metadata": {},
   "outputs": [],
   "source": [
    "import os\n",
    "from zhipuai import ZhipuAI\n",
    "import base64\n",
    "\n",
    "os.environ[\"ZHIPUAI_API_KEY\"] = \"bb3bd2a8ea8878631a1545d3c3732d43.J37lemjg7k1E3bM0\"\n",
    "\n",
    "client = ZhipuAI()"
   ]
  },
  {
   "cell_type": "code",
   "execution_count": 2,
   "id": "2b4f06cb-a887-4bd6-a848-221a9a448cbe",
   "metadata": {},
   "outputs": [
    {
     "name": "stdout",
     "output_type": "stream",
     "text": [
      "Looking in indexes: https://mirrors.tuna.tsinghua.edu.cn/pypi/web/simple\n",
      "Collecting zhipuai\n",
      "  Downloading https://mirrors.tuna.tsinghua.edu.cn/pypi/web/packages/10/28/5c1efbfb560e64458b22e0442279af8bde673edcb096762a3aeccee3a8ec/zhipuai-2.1.5.20230904-py3-none-any.whl (104 kB)\n",
      "Collecting httpx>=0.23.0\n",
      "  Using cached https://mirrors.tuna.tsinghua.edu.cn/pypi/web/packages/56/95/9377bcb415797e44274b51d46e3249eba641711cf3348050f76ee7b15ffc/httpx-0.27.2-py3-none-any.whl (76 kB)\n",
      "Collecting pyjwt<2.9.0,>=2.8.0\n",
      "  Downloading https://mirrors.tuna.tsinghua.edu.cn/pypi/web/packages/2b/4f/e04a8067c7c96c364cef7ef73906504e2f40d690811c021e1a1901473a19/PyJWT-2.8.0-py3-none-any.whl (22 kB)\n",
      "Collecting cachetools>=4.2.2\n",
      "  Downloading https://mirrors.tuna.tsinghua.edu.cn/pypi/web/packages/a4/07/14f8ad37f2d12a5ce41206c21820d8cb6561b728e51fad4530dff0552a67/cachetools-5.5.0-py3-none-any.whl (9.5 kB)\n",
      "Collecting pydantic-core>=2.14.6\n",
      "  Downloading https://mirrors.tuna.tsinghua.edu.cn/pypi/web/packages/2e/27/81203aa6cbf68772afd9c3877ce2e35878f434e824aad4047e7cfd3bc14d/pydantic_core-2.27.0-cp39-none-win_amd64.whl (2.0 MB)\n",
      "Collecting pydantic<3.0,>=1.9.0\n",
      "  Downloading https://mirrors.tuna.tsinghua.edu.cn/pypi/web/packages/df/e4/ba44652d562cbf0bf320e0f3810206149c8a4e99cdbf66da82e97ab53a15/pydantic-2.9.2-py3-none-any.whl (434 kB)\n",
      "Requirement already satisfied: sniffio in c:\\programdata\\anaconda3\\lib\\site-packages (from httpx>=0.23.0->zhipuai) (1.2.0)\n",
      "Requirement already satisfied: certifi in c:\\programdata\\anaconda3\\lib\\site-packages (from httpx>=0.23.0->zhipuai) (2021.10.8)\n",
      "Collecting httpcore==1.*\n",
      "  Using cached https://mirrors.tuna.tsinghua.edu.cn/pypi/web/packages/87/f5/72347bc88306acb359581ac4d52f23c0ef445b57157adedb9aee0cd689d2/httpcore-1.0.7-py3-none-any.whl (78 kB)\n",
      "Requirement already satisfied: idna in c:\\programdata\\anaconda3\\lib\\site-packages (from httpx>=0.23.0->zhipuai) (3.2)\n",
      "Requirement already satisfied: anyio in c:\\programdata\\anaconda3\\lib\\site-packages (from httpx>=0.23.0->zhipuai) (2.2.0)\n",
      "Collecting h11<0.15,>=0.13\n",
      "  Using cached https://mirrors.tuna.tsinghua.edu.cn/pypi/web/packages/95/04/ff642e65ad6b90db43e668d70ffb6736436c7ce41fcc549f4e9472234127/h11-0.14.0-py3-none-any.whl (58 kB)\n",
      "Collecting annotated-types>=0.6.0\n",
      "  Downloading https://mirrors.tuna.tsinghua.edu.cn/pypi/web/packages/78/b6/6307fbef88d9b5ee7421e68d78a9f162e0da4900bc5f5793f6d3d0e34fb8/annotated_types-0.7.0-py3-none-any.whl (13 kB)\n",
      "Collecting pydantic-core>=2.14.6\n",
      "  Downloading https://mirrors.tuna.tsinghua.edu.cn/pypi/web/packages/98/95/dd7045c4caa2b73d0bf3b989d66b23cfbb7a0ef14ce99db15677a000a953/pydantic_core-2.23.4-cp39-none-win_amd64.whl (1.9 MB)\n",
      "Requirement already satisfied: typing-extensions>=4.6.1 in c:\\programdata\\anaconda3\\lib\\site-packages (from pydantic<3.0,>=1.9.0->zhipuai) (4.12.2)\n",
      "Installing collected packages: h11, pydantic-core, httpcore, annotated-types, pyjwt, pydantic, httpx, cachetools, zhipuai\n",
      "  Attempting uninstall: pyjwt\n",
      "    Found existing installation: PyJWT 2.9.0\n",
      "    Uninstalling PyJWT-2.9.0:\n",
      "      Successfully uninstalled PyJWT-2.9.0\n",
      "Successfully installed annotated-types-0.7.0 cachetools-5.5.0 h11-0.14.0 httpcore-1.0.7 httpx-0.27.2 pydantic-2.9.2 pydantic-core-2.23.4 pyjwt-2.8.0 zhipuai-2.1.5.20230904\n",
      "Note: you may need to restart the kernel to use updated packages.\n"
     ]
    }
   ],
   "source": [
    "pip install -i https://mirrors.tuna.tsinghua.edu.cn/pypi/web/simple zhipuai"
   ]
  },
  {
   "cell_type": "code",
   "execution_count": 4,
   "id": "e758b5d1-bc43-4d3b-92f0-0b8dc4004596",
   "metadata": {},
   "outputs": [
    {
     "name": "stdout",
     "output_type": "stream",
     "text": [
      "Looking in indexes: https://mirrors.tuna.tsinghua.edu.cn/pypi/web/simple\n",
      "Collecting base\n",
      "  Downloading https://mirrors.tuna.tsinghua.edu.cn/pypi/web/packages/fd/39/e6ff597765d1ff30ba1bfcc80f4c98c74e93c9f31103e6b326d92f7e4192/base-0.0.0.tar.gz (622 bytes)\n",
      "  Installing build dependencies: started\n",
      "  Installing build dependencies: finished with status 'done'\n",
      "  Getting requirements to build wheel: started\n",
      "  Getting requirements to build wheel: finished with status 'done'\n",
      "    Preparing wheel metadata: started\n",
      "    Preparing wheel metadata: finished with status 'done'\n",
      "Building wheels for collected packages: base\n",
      "  Building wheel for base (PEP 517): started\n",
      "  Building wheel for base (PEP 517): finished with status 'done'\n",
      "  Created wheel for base: filename=base-0.0.0-py3-none-any.whl size=900 sha256=1efcbe4e63f7883ac6b9b12a53b074d5fcd3237226690e7d46af3d5302414401\n",
      "  Stored in directory: c:\\users\\admin\\appdata\\local\\pip\\cache\\wheels\\9a\\a5\\2d\\6c8045718819f93b7550b1f54910ded19f9ca215beb578f742\n",
      "Successfully built base\n",
      "Installing collected packages: base\n",
      "Successfully installed base-0.0.0\n",
      "Note: you may need to restart the kernel to use updated packages.\n"
     ]
    }
   ],
   "source": [
    "pip install -i https://mirrors.tuna.tsinghua.edu.cn/pypi/web/simple base"
   ]
  },
  {
   "cell_type": "code",
   "execution_count": null,
   "id": "e4fba9cb-16d3-407f-82af-93a6c9702d66",
   "metadata": {},
   "outputs": [],
   "source": []
  },
  {
   "cell_type": "code",
   "execution_count": 14,
   "id": "f7e34acb-0b54-4d4f-8304-957b6d5c3072",
   "metadata": {},
   "outputs": [
    {
     "name": "stdout",
     "output_type": "stream",
     "text": [
      "等待···\n",
      "CompletionMessage(content='视频开始时，画面中有六个人坐在教室里。一个穿着黑色上衣的女人从门口走了进来，她环顾四周后坐了下来。随后，又有四个人从门外走了进来，他们站在原地摆了几个姿势拍照。穿黑色衣服的女子再次从门外走了进来，这次她手里拿着一杯咖啡，走到柜台前坐下。她用左手掀开头发，然后拿起咖啡喝了一口。这时，一位身穿黑色上衣和灰色裤子的男子走到她身后，伸出右手食指指向她的背部。黑衣女子站了起来，双手拉住袖子整理了一下衣服，然后转身向门外走去。门外有四个人正在走廊上行走，其中一人戴着口罩。黑衣女子走到他们面前停下，说了几句话后又转身回到教室。她再次走到门前，用手中的杯子挡住脸，然后又放下杯子，一边说话一边走进教室。', role='assistant', tool_calls=None)\n"
     ]
    }
   ],
   "source": [
    "video_path = \"doy.mp4\"\n",
    "with open(video_path,'rb') as video_file:\n",
    "    video_base = base64.b64encode(video_file.read()).decode('utf-8')\n",
    "    \n",
    "print(\"等待···\")\n",
    "\n",
    "response = client.chat.completions.create(\n",
    "    model=\"glm-4v-plus\",\n",
    "    temperature=0.0,\n",
    "    top_p=0,\n",
    "    \n",
    "    messages=[{\n",
    "        \"role\":\"user\",\n",
    "        \"content\":[{\n",
    "            \"type\":\"video_url\",\n",
    "            \"video_url\":{\"url\": video_base}\n",
    "        },{\n",
    "            \"type\":\"text\",\n",
    "            \"text\":\"请仔细回答视频在讲诉什么\"\n",
    "        }]\n",
    "    }]\n",
    ")\n",
    "\n",
    "print(response.choices[0].message)"
   ]
  },
  {
   "cell_type": "code",
   "execution_count": null,
   "id": "165aea79-2c1a-4742-85a6-42a926353009",
   "metadata": {},
   "outputs": [],
   "source": []
  },
  {
   "cell_type": "code",
   "execution_count": null,
   "id": "d4b7b1a4-4274-453b-940f-eca03b1b9b73",
   "metadata": {},
   "outputs": [],
   "source": []
  },
  {
   "cell_type": "code",
   "execution_count": null,
   "id": "2289a9b8-5542-40e7-8d94-80e5cf520c6e",
   "metadata": {},
   "outputs": [],
   "source": []
  }
 ],
 "metadata": {
  "kernelspec": {
   "display_name": "Python 3 (ipykernel)",
   "language": "python",
   "name": "python3"
  },
  "language_info": {
   "codemirror_mode": {
    "name": "ipython",
    "version": 3
   },
   "file_extension": ".py",
   "mimetype": "text/x-python",
   "name": "python",
   "nbconvert_exporter": "python",
   "pygments_lexer": "ipython3",
   "version": "3.9.7"
  }
 },
 "nbformat": 4,
 "nbformat_minor": 5
}
