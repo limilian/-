{
 "cells": [
  {
   "cell_type": "code",
   "execution_count": 1,
   "id": "ab21f13c",
   "metadata": {},
   "outputs": [
    {
     "name": "stderr",
     "output_type": "stream",
     "text": [
      "D:\\Anaconda3\\lib\\site-packages\\scipy\\__init__.py:146: UserWarning: A NumPy version >=1.16.5 and <1.23.0 is required for this version of SciPy (detected version 1.26.2\n",
      "  warnings.warn(f\"A NumPy version >={np_minversion} and <{np_maxversion}\"\n"
     ]
    }
   ],
   "source": [
    "import pandas as pd\n",
    "from sklearn.metrics import roc_curve,auc \n",
    "import matplotlib. pyplot as plt"
   ]
  },
  {
   "cell_type": "code",
   "execution_count": 2,
   "id": "13107620",
   "metadata": {},
   "outputs": [
    {
     "data": {
      "text/html": [
       "<div>\n",
       "<style scoped>\n",
       "    .dataframe tbody tr th:only-of-type {\n",
       "        vertical-align: middle;\n",
       "    }\n",
       "\n",
       "    .dataframe tbody tr th {\n",
       "        vertical-align: top;\n",
       "    }\n",
       "\n",
       "    .dataframe thead th {\n",
       "        text-align: right;\n",
       "    }\n",
       "</style>\n",
       "<table border=\"1\" class=\"dataframe\">\n",
       "  <thead>\n",
       "    <tr style=\"text-align: right;\">\n",
       "      <th></th>\n",
       "      <th>真实标签</th>\n",
       "      <th>预测分数</th>\n",
       "    </tr>\n",
       "  </thead>\n",
       "  <tbody>\n",
       "    <tr>\n",
       "      <th>0</th>\n",
       "      <td>1</td>\n",
       "      <td>0.900</td>\n",
       "    </tr>\n",
       "    <tr>\n",
       "      <th>1</th>\n",
       "      <td>1</td>\n",
       "      <td>0.800</td>\n",
       "    </tr>\n",
       "    <tr>\n",
       "      <th>2</th>\n",
       "      <td>0</td>\n",
       "      <td>0.700</td>\n",
       "    </tr>\n",
       "    <tr>\n",
       "      <th>3</th>\n",
       "      <td>1</td>\n",
       "      <td>0.600</td>\n",
       "    </tr>\n",
       "    <tr>\n",
       "      <th>4</th>\n",
       "      <td>1</td>\n",
       "      <td>0.550</td>\n",
       "    </tr>\n",
       "    <tr>\n",
       "      <th>5</th>\n",
       "      <td>1</td>\n",
       "      <td>0.540</td>\n",
       "    </tr>\n",
       "    <tr>\n",
       "      <th>6</th>\n",
       "      <td>0</td>\n",
       "      <td>0.530</td>\n",
       "    </tr>\n",
       "    <tr>\n",
       "      <th>7</th>\n",
       "      <td>0</td>\n",
       "      <td>0.520</td>\n",
       "    </tr>\n",
       "    <tr>\n",
       "      <th>8</th>\n",
       "      <td>1</td>\n",
       "      <td>0.510</td>\n",
       "    </tr>\n",
       "    <tr>\n",
       "      <th>9</th>\n",
       "      <td>0</td>\n",
       "      <td>0.505</td>\n",
       "    </tr>\n",
       "  </tbody>\n",
       "</table>\n",
       "</div>"
      ],
      "text/plain": [
       "   真实标签   预测分数\n",
       "0     1  0.900\n",
       "1     1  0.800\n",
       "2     0  0.700\n",
       "3     1  0.600\n",
       "4     1  0.550\n",
       "5     1  0.540\n",
       "6     0  0.530\n",
       "7     0  0.520\n",
       "8     1  0.510\n",
       "9     0  0.505"
      ]
     },
     "execution_count": 2,
     "metadata": {},
     "output_type": "execute_result"
    }
   ],
   "source": [
    "# 创建 DataFrame\n",
    "data ={\n",
    "    \"真实标签\": [1, 1, 0, 1, 1, 1, 0, 0, 1, 0, 1, 0, 1, 0, 0, 0, 1, 0, 1, 0],\n",
    "    \"预测分数\": [0.9, 0.8, 0.7, 0.6, 0.55, 0.54, 0.53, 0.52, 0.51, 0.505, 0.4, 0.39, 0.38, 0.37, 0.36, 0.35, 0.34, 0.33, 0.30, 0.1]\n",
    "}\n",
    "df = pd.DataFrame(data)\n",
    "df.head(10)"
   ]
  },
  {
   "cell_type": "code",
   "execution_count": 3,
   "id": "523c6ac6",
   "metadata": {},
   "outputs": [
    {
     "name": "stdout",
     "output_type": "stream",
     "text": [
      "0.68\n"
     ]
    }
   ],
   "source": [
    "#按照预测分数降序排序\n",
    "df_sorted = df.sort_values(by='预测分数', ascending=False)\n",
    "#计算累积的真正例和假正例\n",
    "cumulative_tp = df_sorted['真实标签'].cumsum()\n",
    "cumulative_fp = (1-df_sorted['真实标签']).cumsum()\n",
    "\n",
    "#计算总的真正例和假正例\n",
    "total_tp = cumulative_tp.iloc[-1]\n",
    "total_fp = cumulative_fp.iloc[-1]\n",
    "\n",
    "#计算 FPR 和 TPR\n",
    "fpr = cumulative_fp / total_fp\n",
    "tpr = cumulative_tp / total_tp\n",
    "\n",
    "# 计算auc值\n",
    "roc_auc = auc(fpr, tpr) \n",
    "print (roc_auc)"
   ]
  },
  {
   "cell_type": "code",
   "execution_count": 4,
   "id": "5237f94a",
   "metadata": {},
   "outputs": [
    {
     "data": {
      "image/png": "[encoded data removed]",
      "text/plain": [
       "<Figure size 576x432 with 1 Axes>"
      ]
     },
     "metadata": {
      "needs_background": "light"
     },
     "output_type": "display_data"
    }
   ],
   "source": [
    "# 绘制 ROC 曲线\n",
    "plt.figure(figsize=(8, 6))\n",
    "plt.plot(fpr, tpr, color='darkorange', lw=2, label='RoC curve (area = %0.2f)' % roc_auc)\n",
    "plt.plot([0, 1], [0, 1], color='navy', lw=2, linestyle='--')\n",
    "plt.xlim([0.0, 1.0])\n",
    "plt.ylim([0.0, 1.05])\n",
    "plt.xlabel('False Positive Rate')\n",
    "plt.ylabel('True Positive Rate')\n",
    "plt.title('Receiver Operating Characteristic')\n",
    "plt.legend(loc=\"lower right\")\n",
    "plt.show()"
   ]
  },
  {
   "cell_type": "code",
   "execution_count": 5,
   "id": "c6f7898f",
   "metadata": {},
   "outputs": [
    {
     "name": "stdout",
     "output_type": "stream",
     "text": [
      "每一折的得分: [1.         0.96666667 0.93333333 0.93333333 0.96666667]\n",
      "平均得分: 0.9600000000000002\n"
     ]
    },
    {
     "data": {
      "image/png": "[encoded data removed]",
      "text/plain": [
       "<Figure size 720x432 with 1 Axes>"
      ]
     },
     "metadata": {
      "needs_background": "light"
     },
     "output_type": "display_data"
    }
   ],
   "source": [
    "from sklearn.datasets import load_iris \n",
    "from sklearn.model_selection import KFold, cross_val_score \n",
    "from sklearn.ensemble import RandomForestClassifier\n",
    "\n",
    "# 加載数据藥\n",
    "iris = load_iris()\n",
    "X = iris.data\n",
    "y= iris.target\n",
    "\n",
    "#初始化随机森林分类器\n",
    "classifier = RandomForestClassifier(n_estimators=100, random_state=42)\n",
    "\n",
    "#初始化K折交叉验证对象,这里以5折为例\n",
    "kf = KFold(n_splits=5, shuffle=True, random_state=42)\n",
    "\n",
    "# 进行K折交叉验证\n",
    "scores = cross_val_score(classifier, X, y, cv=kf)\n",
    "\n",
    "#打印每一折的得分以及平均得分\n",
    "print(f\"每一折的得分: {scores}\")\n",
    "print(f\"平均得分: {scores.mean()}\")\n",
    "\n",
    "#可视化K折交叉验证的过程\n",
    "import matplotlib.pyplot as plt\n",
    "# 记录每一听的索引和得分\n",
    "folds = list(range(1, len(scores) +1))\n",
    "plt.figure(figsize=(10, 6))\n",
    "plt.plot(folds, scores, marker='o')\n",
    "plt.title('K-Fold Cross-Validation Scores')\n",
    "plt.xlabel('Folds')\n",
    "plt.ylabel('Accuracy')\n",
    "plt.show()"
   ]
  },
  {
   "cell_type": "code",
   "execution_count": 6,
   "id": "50a35afa",
   "metadata": {},
   "outputs": [
    {
     "name": "stdout",
     "output_type": "stream",
     "text": [
      "斜率（权重) : 1.5072128470332065\n",
      "截距（偏置）：22.48979314099074\n"
     ]
    }
   ],
   "source": [
    "import numpy as np\n",
    "from sklearn.linear_model import LinearRegression\n",
    "import matplotlib.pyplot as plt\n",
    "# 准备数据\n",
    "#房屋面积(平方米)作为特征\n",
    "X= np.array([[50], [70], [82], [101], [120]])\n",
    "\n",
    "#价格(万元)作为目标变量\n",
    "y= np.array([100, 120, 150, 180, 200])\n",
    "\n",
    "# 创建线性回归横型实例\n",
    "model = LinearRegression()\n",
    "# 训练模型\n",
    "model.fit(X, y)\n",
    "\n",
    "#获歇模型的斜率(权重)和戴距(偷置)\n",
    "slope = model.coef_\n",
    "intercept = model.intercept_\n",
    "\n",
    "print(f\"斜率（权重) : {slope[0]}\")\n",
    "print(f\"截距（偏置）：{intercept}\")"
   ]
  },
  {
   "cell_type": "code",
   "execution_count": 7,
   "id": "0ebc4e6f",
   "metadata": {},
   "outputs": [
    {
     "name": "stdout",
     "output_type": "stream",
     "text": [
      "预测的价格：\n",
      "97.85043549265106\n",
      "127.9946924333152\n",
      "146.0812465977137\n",
      "174.7182906913446\n",
      "203.35533478497553\n"
     ]
    },
    {
     "data": {
      "image/png": "[encoded data removed]",
      "text/plain": [
       "<Figure size 432x288 with 1 Axes>"
      ]
     },
     "metadata": {
      "needs_background": "light"
     },
     "output_type": "display_data"
    }
   ],
   "source": [
    "# 使用模型进行预测\n",
    "predictions = model.predict(X)\n",
    "# 打印预测结果\n",
    "print(\"预测的价格：\")\n",
    "\n",
    "for pred in predictions:\n",
    "    print(pred)\n",
    "    \n",
    "# 可视化结果\n",
    "plt.scatter(X,y, color='blue') # 实际的点\n",
    "plt.plot(X, predictions, color='red') # 回归线\n",
    "plt.title('House Price Prediction')\n",
    "plt.xlabel(\"Area (sq meters)\") \n",
    "plt.ylabel('Price (in 10,000 yuan)')\n",
    "plt.show()"
   ]
  },
  {
   "cell_type": "code",
   "execution_count": null,
   "id": "3e7d9bf3",
   "metadata": {},
   "outputs": [],
   "source": []
  }
 ],
 "metadata": {
  "kernelspec": {
   "display_name": "Python 3 (ipykernel)",
   "language": "python",
   "name": "python3"
  },
  "language_info": {
   "codemirror_mode": {
    "name": "ipython",
    "version": 3
   },
   "file_extension": ".py",
   "mimetype": "text/x-python",
   "name": "python",
   "nbconvert_exporter": "python",
   "pygments_lexer": "ipython3",
   "version": "3.9.7"
  }
 },
 "nbformat": 4,
 "nbformat_minor": 5
}
