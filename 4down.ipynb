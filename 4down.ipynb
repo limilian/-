{
 "cells": [
  {
   "cell_type": "markdown",
   "id": "8ad94d3f-d6fb-490f-afdc-abaf6de06fa6",
   "metadata": {},
   "source": [
    "# 视频生成任务"
   ]
  },
  {
   "cell_type": "code",
   "execution_count": 165,
   "id": "08296167-ce9b-4920-b68c-6873adc4349e",
   "metadata": {},
   "outputs": [
    {
     "name": "stdout",
     "output_type": "stream",
     "text": [
      "VideoObject(id='22671732090402189-9221301862123342531', model='cogvideox', video_result=None, task_status='PROCESSING', request_id='-9221301862123342532')\n"
     ]
    }
   ],
   "source": [
    "from zhipuai import ZhipuAI\n",
    "client = ZhipuAI(api_key=\"bb3bd2a8ea8878631a1545d3c3732d43.J37lemjg7k1E3bM0\") \n",
    "# 请填写您自己的APIKey\n",
    "response = client.videos.generations(\n",
    "    model=\"cogvideox\",\n",
    "    prompt=\"一个穿着黑色上衣的女人从门口走进来。\"\n",
    ")\n",
    "print(response)"
   ]
  },
  {
   "cell_type": "markdown",
   "id": "04a508d4-2dd7-4a73-939c-30206fc997d9",
   "metadata": {},
   "source": [
    "## 结果调用示例"
   ]
  },
  {
   "cell_type": "markdown",
   "id": "a517d440-f1b8-404a-a57a-e8d004a84650",
   "metadata": {},
   "source": [
    "### 请求示例"
   ]
  },
  {
   "cell_type": "code",
   "execution_count": 168,
   "id": "93d97c3d-eb46-4901-a547-2555900dc8c9",
   "metadata": {},
   "outputs": [
    {
     "name": "stdout",
     "output_type": "stream",
     "text": [
      "VideoObject(id=None, model='cogvideox', video_result=[VideoResult(url='https://aigc-files.bigmodel.cn/api/cogvideo/c574a142-a7e4-11ef-bd78-9ee7942420ea_0.mp4', cover_image_url='https://aigc-files.bigmodel.cn/api/cogvideo/c574a142-a7e4-11ef-bd78-9ee7942420ea_cover_0.jpeg')], task_status='SUCCESS', request_id='-9221301862123342532')\n"
     ]
    }
   ],
   "source": [
    "from zhipuai import ZhipuAI\n",
    "client = ZhipuAI(api_key=\"bb3bd2a8ea8878631a1545d3c3732d43.J37lemjg7k1E3bM0\") # 请填写您自己的APIKey\n",
    "response = client.videos.retrieve_videos_result( \n",
    "    id=\"22671732090402189-9221301862123342531\"\n",
    ")\n",
    "print(response)"
   ]
  },
  {
   "cell_type": "code",
   "execution_count": null,
   "id": "417b7636-5a4a-4a3c-a497-ff74ab34b97e",
   "metadata": {},
   "outputs": [],
   "source": []
  },
  {
   "cell_type": "markdown",
   "id": "d2cf2062-f438-42c9-871f-c87996c34955",
   "metadata": {},
   "source": [
    "# 图片生成视频"
   ]
  },
  {
   "cell_type": "code",
   "execution_count": 189,
   "id": "084c2adb-d68c-4a20-ae11-94f0cf4e4898",
   "metadata": {},
   "outputs": [
    {
     "name": "stdout",
     "output_type": "stream",
     "text": [
      "VideoObject(id='22671732090402189-9221302549318854722', model='cogvideox', video_result=None, task_status='PROCESSING', request_id='-9221302549318854723')\n"
     ]
    }
   ],
   "source": [
    "client = ZhipuAI(api_key=\"bb3bd2a8ea8878631a1545d3c3732d43.J37lemjg7k1E3bM0\")\n",
    "\n",
    "response = client.videos.generations(\n",
    "    model=\"cogvideox\",\n",
    "    image_url = \"https://img.zcool.cn/community/0110165955778ca8012193a3d83860.jpg\",\n",
    "    prompt=\"根据图片，添加下雨的特效\"\n",
    ")\n",
    "print(response)"
   ]
  },
  {
   "cell_type": "code",
   "execution_count": 192,
   "id": "2b20adbc-f528-41e6-9864-2e312597a65d",
   "metadata": {},
   "outputs": [
    {
     "name": "stdout",
     "output_type": "stream",
     "text": [
      "VideoObject(id=None, model='cogvideox', video_result=[VideoResult(url='https://aigc-files.bigmodel.cn/api/cogvideo/d33203f8-a7e7-11ef-98ac-fe65eda1aa82_0.mp4', cover_image_url='https://aigc-files.bigmodel.cn/api/cogvideo/d33203f8-a7e7-11ef-98ac-fe65eda1aa82_cover_0.jpeg')], task_status='SUCCESS', request_id='-9221302549318854723')\n"
     ]
    }
   ],
   "source": [
    "from zhipuai import ZhipuAI\n",
    "client = ZhipuAI(api_key=\"bb3bd2a8ea8878631a1545d3c3732d43.J37lemjg7k1E3bM0\") # 请填写您自己的APIKey\n",
    "response = client.videos.retrieve_videos_result( \n",
    "    id=\"22671732090402189-9221302549318854722\"\n",
    ")\n",
    "print(response)"
   ]
  },
  {
   "cell_type": "code",
   "execution_count": null,
   "id": "f95262b6-8504-4192-94fe-9754caf82996",
   "metadata": {},
   "outputs": [],
   "source": []
  }
 ],
 "metadata": {
  "kernelspec": {
   "display_name": "Python 3 (ipykernel)",
   "language": "python",
   "name": "python3"
  },
  "language_info": {
   "codemirror_mode": {
    "name": "ipython",
    "version": 3
   },
   "file_extension": ".py",
   "mimetype": "text/x-python",
   "name": "python",
   "nbconvert_exporter": "python",
   "pygments_lexer": "ipython3",
   "version": "3.9.7"
  }
 },
 "nbformat": 4,
 "nbformat_minor": 5
}
